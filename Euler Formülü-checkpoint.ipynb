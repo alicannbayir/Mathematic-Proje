{
 "cells": [
  {
   "cell_type": "markdown",
   "id": "1eafab5b",
   "metadata": {},
   "source": [
    "# Euler Özdeşliği\n",
    "\n",
    "Fizikte hepimizin bildiği Einstein’ın $E = mc^2$, denklemi enerji (E) ve kütlenin (m) gerçekten aynı şeyin farklı biçimleri olduğunu, c sabiti yani ışık hızı ile bağlantılı olduğunu gösterir. Bunun karşılığı matematik için Euler Formülü olarak söylenebilir.\n",
    "\n",
    "Matematikteki birçok şey, muhtemelen tüm zamanların en üretken matematikçisi olan Leonhard Euler’in adını almıştır. Bu yazıda, üstel fonksiyon ve trigonometrik fonksiyonlar arasında güzel bir ilişki ortaya koyan, adını taşıyan bu formülü araştırıyoruz. Bu sayede de karmaşık sayıları üstel bir şekilde nasıl yazabileceğimizi göreceğiz.\n",
    "\n",
    "Ancak önce neden önemli olduğunu anlamanız lazım. Trigonometrik fonksiyonlardan olan $y=sinx$ ve $y=cosx$ bir çember ile ilgilidir. Üstel ve logaritmik fonksiyonlar olan $y=e^x$ ve $y=lnx$ de bir hiperbol ile ilgilidir. Sonucunda da hiperbol ve çember de birbiriyle ilişkilidir. (çünkü her ikisi de konik şekillerdendir). Öyleyse, üstel ve logaritmik fonksiyonlar ile trigonometrik fonksiyonlar arasında doğrudan ilişki vardır. Ancak böyle bir ilişkinin var olabilmesi için de işin içine karmaşık sayıların girmesi gerekir. 1748 yılında Euler bunun mümkün olabileceğini bu formül ile bizlere gösterdi. Sonrasında da aşağıdaki özdeşliği ortaya attı. Buna Euler Özdeşliği denir. \n",
    "\n",
    "$$e^{ix}= cosx +isinx$$\n",
    "\n",
    "## Euler Formülü\n",
    "\n",
    "Euler Formülü matematiğin en dikkat çekici formülüdür. Euler özdeşliğinde $x$ değerini $π$ olarak alırsak ve biraz da trigonometri bilgisiyle $(sin π=0, cosπ=-1)$  özdeşliğimiz $e^{i\\pi}=-1$ haline dönüşür. Jerry P.King’in deyişiyle “Bu eşitliği gören her matematikçi, denklemin iki yanına $+1$ eklemek ister. Biz de aynı şeyi yaparsak aşağıdaki, yazımızın konusu olan ifadeyi elde ederiz.\n",
    "\n",
    "$$e^{i\\pi}+1=0$$\n",
    "\n",
    "Bu yalın formül, içerdiği zengin ve yararlı anlam yanında, uygarlıklarımızın yarattığı beş önemli nesneyi yani $0$, $1$, $e$, $i$ , $π$. içerir. Üstelik onlar arasında bağ kurar. Matematiğin görünüşte farklı dallarını son derece basit bir şekilde birbirine bağladığı için de “matematiksel güzelliğin altın standardı” olarak kabul edilir.\n",
    "\n"
   ]
  }
 ],
 "metadata": {
  "kernelspec": {
   "display_name": "Python 3 (ipykernel)",
   "language": "python",
   "name": "python3"
  },
  "language_info": {
   "codemirror_mode": {
    "name": "ipython",
    "version": 3
   },
   "file_extension": ".py",
   "mimetype": "text/x-python",
   "name": "python",
   "nbconvert_exporter": "python",
   "pygments_lexer": "ipython3",
   "version": "3.11.1"
  }
 },
 "nbformat": 4,
 "nbformat_minor": 5
}
